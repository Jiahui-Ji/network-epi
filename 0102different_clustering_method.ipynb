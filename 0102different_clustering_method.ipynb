{
 "cells": [
  {
   "cell_type": "markdown",
   "metadata": {},
   "source": [
    "# Different clustering results and results"
   ]
  },
  {
   "cell_type": "code",
   "execution_count": 2,
   "metadata": {},
   "outputs": [
    {
     "name": "stderr",
     "output_type": "stream",
     "text": [
      "\n",
      "Attaching package: ‘igraph’\n",
      "\n",
      "The following objects are masked from ‘package:stats’:\n",
      "\n",
      "    decompose, spectrum\n",
      "\n",
      "The following object is masked from ‘package:base’:\n",
      "\n",
      "    union\n",
      "\n"
     ]
    }
   ],
   "source": [
    "setwd('/rds/general/user/jj1419/ephemeral/epilepsy/interneuron_network_10%')\n",
    "library(igraph)"
   ]
  },
  {
   "cell_type": "markdown",
   "metadata": {},
   "source": [
    "#-------different clustering methods-------\n",
    "edge_number=4000\n",
    "disease_file=paste0(as.character(edge_number),\n",
    "\t\t\t\t\t'edges_interneuron_disease.gml')\n",
    "control_file=paste0(as.character(edge_number),\n",
    "\t\t\t\t\t'edges_interneuron_control.gml')\n",
    "output_file_union=paste0(as.character(edge_number),\n",
    "\t\t\t\t\t'edges_combine_disease_only_alledge_epi.gml')\n",
    "\n",
    "#combine disease and control communities \n",
    "#read network\n",
    "disease_net=read_graph(disease_file,format=c('gml')) \n",
    "control_net=read_graph(control_file,format=c('gml')) "
   ]
  },
  {
   "cell_type": "markdown",
   "metadata": {},
   "source": [
    "## 1 Edge betweenness"
   ]
  },
  {
   "cell_type": "code",
   "execution_count": 25,
   "metadata": {},
   "outputs": [
    {
     "data": {
      "text/html": [
       "21"
      ],
      "text/latex": [
       "21"
      ],
      "text/markdown": [
       "21"
      ],
      "text/plain": [
       "[1] 21"
      ]
     },
     "metadata": {},
     "output_type": "display_data"
    },
    {
     "name": "stderr",
     "output_type": "stream",
     "text": [
      "Warning message in subgraph(disease_only_net, gene_number):\n",
      "“At structural_properties.c:1984 :igraph_subgraph is deprecated from igraph 0.6, use igraph_induced_subgraph instead”"
     ]
    },
    {
     "data": {
      "text/plain": [
       "\n",
       "  37   46   48   50   67   78  103  144  149  161  169  173  180  218  324  498 \n",
       "  21  233   48  179   21   43   38  256   44   31  130   37   36   33   11   10 \n",
       " 621  795  821 1058 1133 \n",
       "  13   12   22   10   21 "
      ]
     },
     "metadata": {},
     "output_type": "display_data"
    }
   ],
   "source": [
    "#find difference, delete common edges\n",
    "disease_only_net=difference(disease_net,control_net)\n",
    "control_only_net=difference(control_net,disease_net)\n",
    "disease_and_control=disease_net+control_net\n",
    "\n",
    "\n",
    "#cluster disease only/control only\n",
    "#disease\n",
    "community=edge.betweenness.community(disease_only_net)\n",
    "member=membership(community)\n",
    "V(disease_only_net)$member=member\n",
    "length(which(table(member)>=10))\n",
    "\n",
    "number=as.numeric(which(table(member)>=10))\n",
    "gene_number=which(V(disease_only_net)$member %in% number)\n",
    "disease_only_net_sub=subgraph(disease_only_net,gene_number)\n",
    "\n",
    "table(V(disease_only_net_sub)$member)"
   ]
  },
  {
   "cell_type": "markdown",
   "metadata": {},
   "source": [
    "## 2 Short random walks - cluster walktrap"
   ]
  },
  {
   "cell_type": "code",
   "execution_count": 26,
   "metadata": {},
   "outputs": [
    {
     "data": {
      "text/html": [
       "23"
      ],
      "text/latex": [
       "23"
      ],
      "text/markdown": [
       "23"
      ],
      "text/plain": [
       "[1] 23"
      ]
     },
     "metadata": {},
     "output_type": "display_data"
    },
    {
     "name": "stderr",
     "output_type": "stream",
     "text": [
      "Warning message in subgraph(disease_only_net, gene_number):\n",
      "“At structural_properties.c:1984 :igraph_subgraph is deprecated from igraph 0.6, use igraph_induced_subgraph instead”"
     ]
    },
    {
     "data": {
      "text/plain": [
       "\n",
       "  1   5   6   9  10  11  12  13  14  15  16  17  18  19  23  25  26  28  33  36 \n",
       " 86 194  15  24  12 216 266  10  27  10  11  10  37  14  16  17  27  19  12  11 \n",
       " 47  49  51 \n",
       " 31  48  10 "
      ]
     },
     "metadata": {},
     "output_type": "display_data"
    }
   ],
   "source": [
    "#find difference, delete common edges\n",
    "disease_only_net=difference(disease_net,control_net)\n",
    "control_only_net=difference(control_net,disease_net)\n",
    "disease_and_control=disease_net+control_net\n",
    "\n",
    "\n",
    "#cluster disease only/control only\n",
    "#disease\n",
    "community=cluster_walktrap(disease_only_net)\n",
    "member=membership(community)\n",
    "V(disease_only_net)$member=member\n",
    "length(which(table(member)>=10))\n",
    "\n",
    "number=as.numeric(which(table(member)>=10))\n",
    "gene_number=which(V(disease_only_net)$member %in% number)\n",
    "disease_only_net_sub=subgraph(disease_only_net,gene_number)\n",
    "\n",
    "table(V(disease_only_net_sub)$member)"
   ]
  },
  {
   "cell_type": "markdown",
   "metadata": {},
   "source": [
    "## 3 Leading eigenvector of the community matrix - leading eigen"
   ]
  },
  {
   "cell_type": "code",
   "execution_count": 27,
   "metadata": {},
   "outputs": [
    {
     "data": {
      "text/html": [
       "18"
      ],
      "text/latex": [
       "18"
      ],
      "text/markdown": [
       "18"
      ],
      "text/plain": [
       "[1] 18"
      ]
     },
     "metadata": {},
     "output_type": "display_data"
    },
    {
     "name": "stderr",
     "output_type": "stream",
     "text": [
      "Warning message in subgraph(disease_only_net, gene_number):\n",
      "“At structural_properties.c:1984 :igraph_subgraph is deprecated from igraph 0.6, use igraph_induced_subgraph instead”"
     ]
    },
    {
     "data": {
      "text/plain": [
       "\n",
       "  37 1038 6498 6499 6500 6502 6503 6504 6505 6506 6507 6508 6509 6511 6512 6514 \n",
       "  34   10  274  282  243   43   46   45   12   21   14  113   16   10   24   30 \n",
       "6516 6517 \n",
       "  12   27 "
      ]
     },
     "metadata": {},
     "output_type": "display_data"
    }
   ],
   "source": [
    "#find difference, delete common edges\n",
    "disease_only_net=difference(disease_net,control_net)\n",
    "control_only_net=difference(control_net,disease_net)\n",
    "disease_and_control=disease_net+control_net\n",
    "\n",
    "\n",
    "#cluster disease only/control only\n",
    "#disease\n",
    "community=cluster_leading_eigen(disease_only_net)\n",
    "member=membership(community)\n",
    "V(disease_only_net)$member=member\n",
    "length(which(table(member)>=10))\n",
    "\n",
    "number=as.numeric(which(table(member)>=10))\n",
    "gene_number=which(V(disease_only_net)$member %in% number)\n",
    "disease_only_net_sub=subgraph(disease_only_net,gene_number)\n",
    "\n",
    "table(V(disease_only_net_sub)$member)"
   ]
  },
  {
   "cell_type": "markdown",
   "metadata": {},
   "source": [
    "## 4 Multi-level optimization of modularity - based on modularity measure and a hierarchial approach"
   ]
  },
  {
   "cell_type": "code",
   "execution_count": 30,
   "metadata": {},
   "outputs": [
    {
     "data": {
      "text/html": [
       "16"
      ],
      "text/latex": [
       "16"
      ],
      "text/markdown": [
       "16"
      ],
      "text/plain": [
       "[1] 16"
      ]
     },
     "metadata": {},
     "output_type": "display_data"
    },
    {
     "name": "stderr",
     "output_type": "stream",
     "text": [
      "Warning message in subgraph(disease_only_net, gene_number):\n",
      "“At structural_properties.c:1984 :igraph_subgraph is deprecated from igraph 0.6, use igraph_induced_subgraph instead”"
     ]
    },
    {
     "data": {
      "text/plain": [
       "\n",
       "3485 4432 4558 5055 5096 5225 5289 5594 5640 5660 5769 5896 5904 6311 6352 6441 \n",
       " 205   42   41   17   43   61   67   34  102   45  132  221   10   56  166   23 "
      ]
     },
     "metadata": {},
     "output_type": "display_data"
    }
   ],
   "source": [
    "#find difference, delete common edges\n",
    "disease_only_net=difference(disease_net,control_net)\n",
    "control_only_net=difference(control_net,disease_net)\n",
    "disease_and_control=disease_net+control_net\n",
    "\n",
    "\n",
    "#cluster disease only/control only\n",
    "#disease\n",
    "community=cluster_louvain(disease_only_net)\n",
    "member=membership(community)\n",
    "V(disease_only_net)$member=member\n",
    "length(which(table(member)>=10))\n",
    "\n",
    "number=as.numeric(which(table(member)>=10))\n",
    "gene_number=which(V(disease_only_net)$member %in% number)\n",
    "disease_only_net_sub=subgraph(disease_only_net,gene_number)\n",
    "\n",
    "table(V(disease_only_net_sub)$member)"
   ]
  },
  {
   "cell_type": "markdown",
   "metadata": {},
   "source": [
    "## 5 Propagation labels"
   ]
  },
  {
   "cell_type": "code",
   "execution_count": 21,
   "metadata": {},
   "outputs": [
    {
     "data": {
      "text/html": [
       "19"
      ],
      "text/latex": [
       "19"
      ],
      "text/markdown": [
       "19"
      ],
      "text/plain": [
       "[1] 19"
      ]
     },
     "metadata": {},
     "output_type": "display_data"
    },
    {
     "name": "stderr",
     "output_type": "stream",
     "text": [
      "Warning message in subgraph(disease_only_net, gene_number):\n",
      "“At structural_properties.c:1984 :igraph_subgraph is deprecated from igraph 0.6, use igraph_induced_subgraph instead”"
     ]
    },
    {
     "data": {
      "text/plain": [
       "\n",
       "  37   46   48   66   77  102  147  169  180  214  277  321  430  496  517  789 \n",
       "  22  738   45  125   35   19   29   30   20   12   22   11   13   10   20   13 \n",
       "1005 1061 1136 \n",
       "  11   10   15 "
      ]
     },
     "metadata": {},
     "output_type": "display_data"
    }
   ],
   "source": [
    "#find difference, delete common edges\n",
    "disease_only_net=difference(disease_net,control_net)\n",
    "control_only_net=difference(control_net,disease_net)\n",
    "disease_and_control=disease_net+control_net\n",
    "\n",
    "\n",
    "#cluster disease only/control only\n",
    "#disease\n",
    "community=cluster_label_prop(disease_only_net)\n",
    "member=membership(community)\n",
    "V(disease_only_net)$member=member\n",
    "length(which(table(member)>=10))\n",
    "\n",
    "number=as.numeric(which(table(member)>=10))\n",
    "gene_number=which(V(disease_only_net)$member %in% number)\n",
    "disease_only_net_sub=subgraph(disease_only_net,gene_number)\n",
    "\n",
    "table(V(disease_only_net_sub)$member)"
   ]
  },
  {
   "cell_type": "code",
   "execution_count": null,
   "metadata": {},
   "outputs": [],
   "source": []
  },
  {
   "cell_type": "code",
   "execution_count": null,
   "metadata": {},
   "outputs": [],
   "source": []
  },
  {
   "cell_type": "code",
   "execution_count": null,
   "metadata": {},
   "outputs": [],
   "source": []
  },
  {
   "cell_type": "code",
   "execution_count": null,
   "metadata": {},
   "outputs": [],
   "source": []
  },
  {
   "cell_type": "code",
   "execution_count": null,
   "metadata": {},
   "outputs": [],
   "source": []
  },
  {
   "cell_type": "code",
   "execution_count": null,
   "metadata": {},
   "outputs": [],
   "source": []
  }
 ],
 "metadata": {
  "kernelspec": {
   "display_name": "R [conda env:r-env]",
   "language": "R",
   "name": "conda-env-r-env-r"
  },
  "language_info": {
   "codemirror_mode": "r",
   "file_extension": ".r",
   "mimetype": "text/x-r-source",
   "name": "R",
   "pygments_lexer": "r",
   "version": "3.6.1"
  }
 },
 "nbformat": 4,
 "nbformat_minor": 2
}
